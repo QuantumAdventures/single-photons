{
 "cells": [
  {
   "cell_type": "code",
   "execution_count": 83,
   "id": "9000234e",
   "metadata": {},
   "outputs": [],
   "source": [
    "import matplotlib.pyplot as plt\n",
    "import numpy as np\n",
    "import scipy.signal as sn\n",
    "import single_photons.utils.constants as ct\n",
    "from single_photons.environment import Particle"
   ]
  },
  {
   "cell_type": "code",
   "execution_count": 84,
   "id": "977fb28b",
   "metadata": {},
   "outputs": [],
   "source": [
    "def compute_gamma(radius, pressure, rho=2200, T = 293, index_refraction=1.444):\n",
    "    m_p = 4 / 3 * np.pi * radius**3 * rho\n",
    "    v_gas = np.sqrt(3 * ct.kb * T / ct.m_gas)\n",
    "    gamma = 15.8 * radius**2 * pressure / (m_p * v_gas)\n",
    "    return gamma\n",
    "\n",
    "def compute_omega(power, waist, rho=2200, index_refraction=1.444):\n",
    "    omega = (\n",
    "    np.sqrt(12 / np.pi)\n",
    "    * np.sqrt((index_refraction**2 - 1) / (index_refraction**2 + 2)) ** 3\n",
    "    * np.sqrt(tweezer_power)\n",
    "    / (tweezer_waist**2 * np.sqrt(rho * ct.c))\n",
    "    )\n",
    "    return omega\n",
    "\n",
    "def compute_scattered_power(power, waist, wavelength, rho=2200, index_refraction=1.444):\n",
    "    Nm = rho/(ct.amu*60.08) #SiO2 molecular density\n",
    "    k_tweezer = 2*np.pi/wavelength\n",
    "    pol_permit_ratio = 3/Nm*(index_refraction**-1)/(index_refraction**2+2) #from C-M\n",
    "    sigma = (8*np.pi/3)*(pol_permit_ratio*k_tweezer*k_tweezer/(4*np.pi*8.85e-12))**2    \n",
    "    I0 = 2*P/waist\n",
    "    return I0*sigma\n",
    "\n",
    "def compute_backaction(wavelength, p_scat, A=0.71):\n",
    "    ba_force = np.sqrt(2*(A**2 + 0.4)*ct.hbar*2*np.pi*p_scat/(ct.c*wavelength))\n",
    "    return ba_force\n",
    "\n",
    "def compute_ideal_detection(wavelength, p_scat):\n",
    "    return np.sqrt(2*ct.hbar*ct.c/((A**2+0.4)*4*(2*np.pi/wavelength)*p_scat))\n",
    "\n",
    "def compute_parameters_simulation(power, wavelength, waist, radius, pressure, fs, eta_detection,\n",
    "                                  rho=2200, index_refraction=1.444, T=293):\n",
    "    gamma = compute_gamma(radius, pressure, rho=rho, T=T, index_refraction=index_refraction)\n",
    "    omega = compute_omega(power, waist, rho=rho, index_refraction=index_refraction)\n",
    "    p_scat = compute_scattered_power(power, waist, wavelength, rho=rho, index_refraction=index_refraction)\n",
    "    ba_force = compute_backaction(wavelength, p_scat)\n",
    "    std_z = compute_ideal_detection(wavelength, p_scat)\n",
    "    std_detection = std_z*np.sqrt(fs/eta_detection)\n",
    "    return gamma, omega, ba_force, std_detection"
   ]
  },
  {
   "cell_type": "code",
   "execution_count": 85,
   "id": "9e253eac",
   "metadata": {},
   "outputs": [],
   "source": [
    "p = 1e-6\n",
    "R = 147e-9\n",
    "wavelength = 1.06e-6\n",
    "power = 300e-3\n",
    "waist = 0.6e-6\n",
    "eta_detection = 0.3\n",
    "fs = 1/30e-9"
   ]
  },
  {
   "cell_type": "code",
   "execution_count": 87,
   "id": "22000b02",
   "metadata": {},
   "outputs": [
    {
     "data": {
      "text/plain": [
       "(2.321754696705159e-05,\n",
       " 501266.40589032974,\n",
       " 1.6768421844819337e-39,\n",
       " 7.369142389804251e-22)"
      ]
     },
     "execution_count": 87,
     "metadata": {},
     "output_type": "execute_result"
    }
   ],
   "source": [
    "gamma, omega, ba_force, std_detection = compute_parameters_simulation(power, wavelength, waist, \n",
    "                                                                      R, p, fs, eta_detection)\n",
    "gamma, omega, ba_force**2, std_detection**2"
   ]
  },
  {
   "cell_type": "code",
   "execution_count": 90,
   "id": "bf4f4cd7",
   "metadata": {},
   "outputs": [],
   "source": [
    "ba_force = np.sqrt(2*(A**2 + 0.4)*ct.hbar*2*np.pi*p_scattered/(ct.c*tweezer_wavelength))"
   ]
  },
  {
   "cell_type": "code",
   "execution_count": 93,
   "id": "6a5f86ff",
   "metadata": {},
   "outputs": [
    {
     "data": {
      "text/plain": [
       "1.334388612226558e-40"
      ]
     },
     "execution_count": 93,
     "metadata": {},
     "output_type": "execute_result"
    }
   ],
   "source": [
    "coupling = ba_force**2/(4*np.pi)\n",
    "coupling"
   ]
  },
  {
   "cell_type": "code",
   "execution_count": 92,
   "id": "1bbca7e7",
   "metadata": {},
   "outputs": [],
   "source": [
    "std_z = np.sqrt(2*ct.hbar*ct.c/((A**2+0.4)*4*(2*np.pi/tweezer_wavelength)*p_scattered))"
   ]
  },
  {
   "cell_type": "code",
   "execution_count": 43,
   "id": "ad6bee47",
   "metadata": {},
   "outputs": [],
   "source": [
    "std_detection = std_z*np.sqrt(fs/eta_detection)"
   ]
  },
  {
   "cell_type": "code",
   "execution_count": 33,
   "id": "8060bac2",
   "metadata": {},
   "outputs": [],
   "source": [
    "coupling = 6.68e-42 \n",
    "env = Particle(omega, gamma, coupling, eta_detection=0.174, T=273)"
   ]
  },
  {
   "cell_type": "code",
   "execution_count": 39,
   "id": "9950e0aa",
   "metadata": {},
   "outputs": [
    {
     "data": {
      "text/plain": [
       "8.394335570391926e-41"
      ]
     },
     "execution_count": 39,
     "metadata": {},
     "output_type": "execute_result"
    }
   ],
   "source": [
    "np.power(env.backaction_std*env.zp_p, 2)"
   ]
  },
  {
   "cell_type": "code",
   "execution_count": 89,
   "id": "1287a417",
   "metadata": {},
   "outputs": [
    {
     "data": {
      "text/plain": [
       "1.1145795945588402e-14"
      ]
     },
     "execution_count": 89,
     "metadata": {},
     "output_type": "execute_result"
    }
   ],
   "source": [
    "std_z = np.sqrt(2*ct.hbar*ct.c/((A**2+0.4)*4*k_tweezer*22.4e-6))\n",
    "std_z"
   ]
  },
  {
   "cell_type": "code",
   "execution_count": 47,
   "id": "749f3a83",
   "metadata": {},
   "outputs": [
    {
     "data": {
      "text/plain": [
       "(1.0533557373057139e-34, 1.054571e-34)"
      ]
     },
     "execution_count": 47,
     "metadata": {},
     "output_type": "execute_result"
    }
   ],
   "source": [
    "std_z*env.backaction_std*env.zp_p, ct.hbar"
   ]
  },
  {
   "cell_type": "code",
   "execution_count": 50,
   "id": "bc64071d",
   "metadata": {},
   "outputs": [
    {
     "data": {
      "text/plain": [
       "0.010295802359945929"
      ]
     },
     "execution_count": 50,
     "metadata": {},
     "output_type": "execute_result"
    }
   ],
   "source": [
    "std_z/(np.sqrt(0.347))"
   ]
  },
  {
   "cell_type": "code",
   "execution_count": 54,
   "id": "66f7d6fa",
   "metadata": {},
   "outputs": [
    {
     "data": {
      "text/plain": [
       "2.2029901394229897e-21"
      ]
     },
     "execution_count": 54,
     "metadata": {},
     "output_type": "execute_result"
    }
   ],
   "source": [
    "(std_z**2)*fs/2"
   ]
  },
  {
   "cell_type": "code",
   "execution_count": null,
   "id": "a71cf523",
   "metadata": {},
   "outputs": [],
   "source": [
    "eta_detection=0.347"
   ]
  }
 ],
 "metadata": {
  "kernelspec": {
   "display_name": "Python 3 (ipykernel)",
   "language": "python",
   "name": "python3"
  },
  "language_info": {
   "codemirror_mode": {
    "name": "ipython",
    "version": 3
   },
   "file_extension": ".py",
   "mimetype": "text/x-python",
   "name": "python",
   "nbconvert_exporter": "python",
   "pygments_lexer": "ipython3",
   "version": "3.8.5"
  }
 },
 "nbformat": 4,
 "nbformat_minor": 5
}
