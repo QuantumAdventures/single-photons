{
 "cells": [
  {
   "cell_type": "code",
   "execution_count": 2,
   "id": "96450ada",
   "metadata": {},
   "outputs": [
    {
     "name": "stderr",
     "output_type": "stream",
     "text": [
      "C:\\Users\\jorge\\anaconda2023.3\\lib\\site-packages\\single_photons-0.0.1-py3.10.egg\\single_photons\\simulation\\simulation_particle.py:3: NumbaPendingDeprecationWarning: \u001b[1mThe 'pycc' module is pending deprecation. Replacement technology is being developed.\n",
      "\n",
      "Pending Deprecation in Numba 0.57.0. For more information please see: https://numba.readthedocs.io/en/stable/reference/deprecation.html#deprecation-of-the-numba-pycc-module\u001b[0m\n"
     ]
    }
   ],
   "source": [
    "import scipy\n",
    "import numpy as np\n",
    "from matplotlib import cm,colors\n",
    "import matplotlib.pyplot as plt\n",
    "import pandas as pd\n",
    "import seaborn as sns\n",
    "from tqdm import tqdm\n",
    "from control import dare\n",
    "import single_photons.utils.constants as ct\n",
    "from single_photons.utils.parameters import *\n",
    "from single_photons.utils.optical_input import *\n",
    "from single_photons.utils.metrics import *\n",
    "from single_photons.environment import Cavity_Particle\n",
    "from single_photons.simulation.simulation_cavity import simulation_c"
   ]
  },
  {
   "cell_type": "code",
   "execution_count": 3,
   "id": "52644f37",
   "metadata": {},
   "outputs": [],
   "source": [
    "plt.rcParams.update({'font.size': 10})\n",
    "plt.rcParams['axes.linewidth'] = 1.5\n",
    "plt.rcParams['font.family'] = 'serif'\n",
    "plt.rcParams['font.serif'] = ['Times New Roman'] + plt.rcParams['font.serif']\n",
    "plt.rcParams.update({\n",
    "    \"text.usetex\": True,\n",
    "})"
   ]
  },
  {
   "cell_type": "code",
   "execution_count": 76,
   "id": "4ae3ac95",
   "metadata": {},
   "outputs": [],
   "source": [
    "delta_t = 1e-9\n",
    "rho = 2200\n",
    "index_refraction = 1.4440\n",
    "T = 293\n",
    "p = 1e-6\n",
    "radius = 71.5e-9\n",
    "wavelength = 1.064e-6\n",
    "power = 400e-3\n",
    "eta_detection = 0.178#0.178\n",
    "control_step = int(30e-9/delta_t) \n",
    "fs = 1/(control_step*delta_t)\n",
    "cavity_waist = 10e-6 #only affects theoretical opmech coupling\n",
    "cavity_length = 0.03\n",
    "tweezer_waist = 0.6e-6\n",
    "detuning_ratio = 0.25 \n",
    "cavity_linewidth_ratio = 0.38\n",
    "optomechanical_coupling_ratio = 0.25\n",
    "g_fb_ratio = 5\n",
    "laser_linewidth = 0"
   ]
  },
  {
   "cell_type": "code",
   "execution_count": 77,
   "id": "1f5dff8c",
   "metadata": {},
   "outputs": [],
   "source": [
    "gamma, omega, ba_force, std_detection, std_z, g_cs, detuning, cavity_linewidth =\\\n",
    "compute_parameters_simulation_cavity(power, wavelength, tweezer_waist, radius, p, fs, eta_detection, \n",
    "                                     cavity_length, cavity_waist, detuning_ratio, cavity_linewidth_ratio,\n",
    "                                    T = T, rho = rho, index_refraction = index_refraction)\n",
    "\n",
    "zp_x = compute_zpx(omega, radius, rho = rho)\n",
    "std_detection = std_detection/zp_x\n",
    "\n",
    "period = 2*np.pi/omega\n",
    "t = np.arange(0, 500*period, delta_t)\n",
    "N = t.shape[0]\n",
    "\n",
    "coupling = (1/(4*np.pi))*(ba_force**2)"
   ]
  },
  {
   "cell_type": "code",
   "execution_count": 78,
   "id": "9597cf29",
   "metadata": {},
   "outputs": [],
   "source": [
    "cavity_linewidth = cavity_linewidth_ratio * omega\n",
    "g_cs = optomechanical_coupling_ratio * omega\n",
    "env = Cavity_Particle(\n",
    "    omega,\n",
    "    gamma,\n",
    "    detuning,        \n",
    "    cavity_linewidth,\n",
    "    g_cs,\n",
    "    coupling,\n",
    "    radius=radius,\n",
    "    eta_detection=eta_detection,\n",
    "    T=T,\n",
    "    g_fb_ratio = g_fb_ratio\n",
    ")"
   ]
  },
  {
   "cell_type": "code",
   "execution_count": 79,
   "id": "a7141ea5",
   "metadata": {},
   "outputs": [],
   "source": [
    "variance_process = env.thermal_force_std**2 + env.backaction_std**2\n",
    "Q = control_step*delta_t/2*np.array(\n",
    "    [\n",
    "        [env.__shot_std__**2, 0, 0, 0],\n",
    "        [0, env.__shot_std__**2, 0, 0],\n",
    "        [0, 0, 0, 0],\n",
    "        [0, 0, 0, variance_process]\n",
    "    ])\n",
    "R = np.array([[np.power(std_detection, 2)]])\n",
    "Ad = scipy.linalg.expm(env.A *control_step*delta_t)\n",
    "Bd = env.B * delta_t * control_step\n",
    "cov_ss = dare(np.transpose(Ad), Bd, Q, R)[0]"
   ]
  },
  {
   "cell_type": "code",
   "execution_count": 80,
   "id": "657b1c50",
   "metadata": {},
   "outputs": [],
   "source": [
    "def post_process_snr(snr):\n",
    "    if not np.equal(snr, None).sum():\n",
    "        mean_pos = np.mean(snr)\n",
    "        std_pos = np.std(snr)\n",
    "    else:\n",
    "        mean_pos = 0\n",
    "        std_pos = 0\n",
    "    return mean_pos, std_pos"
   ]
  },
  {
   "cell_type": "code",
   "execution_count": 85,
   "id": "be38885d",
   "metadata": {},
   "outputs": [
    {
     "name": "stderr",
     "output_type": "stream",
     "text": [
      "100%|████████████████████████████████████████████████████████████████████████████████████| 1/1 [00:21<00:00, 21.81s/it]\n"
     ]
    }
   ],
   "source": [
    "photon_number = 0.1\n",
    "runs = 1\n",
    "step = 50\n",
    "metrics = {''}\n",
    "SNR_data = []\n",
    "\n",
    "env = Cavity_Particle(\n",
    "    omega,\n",
    "    gamma,\n",
    "    detuning,\n",
    "    cavity_linewidth,\n",
    "    optomechanical_coupling_ratio*omega,\n",
    "    coupling,\n",
    "    radius=radius,\n",
    "    eta_detection=eta_detection,\n",
    "    T=T\n",
    ")\n",
    "optical_input, centers, pulse_width = create_pulse(photon_number, env.__kappa__, \n",
    "                                                   laser_linewidth, t,\n",
    "                                                   cavity_length, env.__detuning__)\n",
    "x0 = 0\n",
    "P0 = 1\n",
    "SNR_pos = []\n",
    "SNR_phn = []\n",
    "SNR_fid = []\n",
    "for run in tqdm(range(runs)):\n",
    "    new_states, measured_states, estimated_states, cov_aposteriori, controls = simulation_c(\n",
    "        env.A,\n",
    "        env.B, \n",
    "        optical_input,\n",
    "        env.thermal_force_std,\n",
    "        env.backaction_std,\n",
    "        env.__shot_std__,\n",
    "        std_detection, \n",
    "        eta_detection,\n",
    "        x0, \n",
    "        P0, \n",
    "        Ad, \n",
    "        Bd, \n",
    "        env.C, \n",
    "        env.G,\n",
    "        env.G_lqr,\n",
    "        Q, \n",
    "        R, \n",
    "        delta_t, \n",
    "        control_step, \n",
    "        N\n",
    "    )\n",
    "    pos = estimated_states[:,2][::control_step]\n",
    "    #pos_rise, pos_acomm, pos_left, pos_right = compute_times(pos, delta_t*control_step)\n",
    "    #SNR_pos = np.append(compute_SNR(pos, pos_left, pos_right),SNR_pos)\n",
    "\n",
    "    phonons = compute_phonons(estimated_states, cov_aposteriori, control_step, step = step)\n",
    "    #phn_rise, phn_acomm, phn_left, phn_right = compute_times(phonons, delta_t*control_step*step)\n",
    "    #SNR_phn = np.append(compute_SNR(phonons, phn_left, phn_right), SNR_phn)\n",
    "\n",
    "    #fidelity = compute_fidelity(estimated_states, cov_aposteriori, cov_ss, control_step, step=step)\n",
    "    #fid_rise, fid_acomm, fid_left, fid_right = compute_times(fidelity,delta_t*control_step*step)\n",
    "    #SNR_fid = np.append(compute_SNR(fidelity, phn_left, phn_right),SNR_fid)\n",
    "    #mean_pos, std_pos = post_process_snr(SNR_pos)\n",
    "    #mean_phn, std_phn = post_process_snr(SNR_phn)\n",
    "    #mean_fid, std_fid = post_process_snr(SNR_fid)      \n",
    "\n",
    "#SNR_data.append([[mean_pos, std_pos], [mean_phn, std_phn], [mean_fid, std_fid]])"
   ]
  },
  {
   "cell_type": "code",
   "execution_count": 89,
   "id": "b4387601",
   "metadata": {},
   "outputs": [
    {
     "data": {
      "image/png": "[encoded data removed]",
      "text/plain": [
       "<Figure size 425x325 with 1 Axes>"
      ]
     },
     "metadata": {},
     "output_type": "display_data"
    }
   ],
   "source": [
    "signal = phonons\n",
    "#signal = 1/(fidelity/(max(fidelity))) - 1\n",
    "\n",
    "colors = ['#2E86C1', '#85C1E9', '#1B4F72']\n",
    "fig = plt.figure()\n",
    "factor = 1\n",
    "fig.set_size_inches(4.25*factor, 3.25*factor, forward=True)\n",
    "\n",
    "#plt.plot(1e3*t[::control_step], new_states[::control_step, 2]*zp_x/1e-9, color=colors[2], alpha = 0.3)\n",
    "#plt.plot(1e3*t[::control_step],estimated_states[:,2][::control_step]*zp_x/1e-9,color = colors[0], alpha = 0.5)\n",
    "#plt.ylabel(r'$z(t)$ (nm)')\n",
    "\n",
    "#plt.plot(1e3*t[::control_step], measured_states[::control_step]*zp_x/1e-9, color = colors[2], alpha=0.3)#, alpha = 0.3, label = 'Measurement')\n",
    "\n",
    "x = 1e3*t[::control_step][::step][:signal.shape[0]]\n",
    "plt.plot(x, signal, color = colors[0])\n",
    "plt.ylabel(r'Phonons')\n",
    "\n",
    "plt.xlabel(r'$t$ (ms)')\n",
    "\n",
    "plt.grid()\n",
    "plt.legend(['State', 'Estimation'],loc = 'upper left')\n",
    "plt.show() \n",
    "#ax.text(0.2, 0.8, r'SNR = {:.2}dB'.format(10*np.log10(SNR)), fontsize=15)"
   ]
  },
  {
   "cell_type": "code",
   "execution_count": null,
   "id": "e0f58e69",
   "metadata": {},
   "outputs": [],
   "source": []
  }
 ],
 "metadata": {
  "kernelspec": {
   "display_name": "Python 3 (ipykernel)",
   "language": "python",
   "name": "python3"
  },
  "language_info": {
   "codemirror_mode": {
    "name": "ipython",
    "version": 3
   },
   "file_extension": ".py",
   "mimetype": "text/x-python",
   "name": "python",
   "nbconvert_exporter": "python",
   "pygments_lexer": "ipython3",
   "version": "3.10.9"
  }
 },
 "nbformat": 4,
 "nbformat_minor": 5
}
