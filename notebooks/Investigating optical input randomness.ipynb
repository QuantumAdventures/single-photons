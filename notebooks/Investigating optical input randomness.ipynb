{
 "cells": [
  {
   "cell_type": "code",
   "execution_count": 1,
   "id": "96450ada",
   "metadata": {},
   "outputs": [
    {
     "name": "stderr",
     "output_type": "stream",
     "text": [
      "C:\\Users\\jorge\\anaconda2023.3\\lib\\site-packages\\single_photons-0.0.1-py3.10.egg\\single_photons\\simulation\\simulation_particle.py:3: NumbaPendingDeprecationWarning: \u001b[1mThe 'pycc' module is pending deprecation. Replacement technology is being developed.\n",
      "\n",
      "Pending Deprecation in Numba 0.57.0. For more information please see: https://numba.readthedocs.io/en/stable/reference/deprecation.html#deprecation-of-the-numba-pycc-module\u001b[0m\n"
     ]
    }
   ],
   "source": [
    "import scipy\n",
    "import numpy as np\n",
    "from matplotlib import cm,colors\n",
    "import matplotlib.pyplot as plt\n",
    "import pandas as pd\n",
    "import seaborn as sns\n",
    "from tqdm import tqdm\n",
    "from control import dare\n",
    "import single_photons.utils.constants as ct\n",
    "from single_photons.utils.parameters import *\n",
    "from single_photons.utils.optical_input import *\n",
    "from single_photons.utils.metrics import *\n",
    "from single_photons.environment import Cavity_Particle\n",
    "from single_photons.simulation.simulation_cavity import simulation_c\n",
    "plt.rcParams.update({'font.size': 10})\n",
    "plt.rcParams['axes.linewidth'] = 1.5\n",
    "plt.rcParams['font.family'] = 'serif'\n",
    "plt.rcParams['font.serif'] = ['Times New Roman'] + plt.rcParams['font.serif']\n",
    "plt.rcParams.update({\n",
    "    \"text.usetex\": True,\n",
    "})"
   ]
  },
  {
   "cell_type": "code",
   "execution_count": 2,
   "id": "4ae3ac95",
   "metadata": {},
   "outputs": [],
   "source": [
    "delta_t = 1e-9\n",
    "rho = 2200\n",
    "index_refraction = 1.4440\n",
    "T = 293\n",
    "p = 1e-6\n",
    "radius = 75e-9\n",
    "wavelength = 1.064e-6\n",
    "power = 300e-3\n",
    "eta_detection = 0.178\n",
    "control_step = int(30e-9/delta_t) \n",
    "fs = 1/(control_step*delta_t)\n",
    "cavity_waist = 100e-6\n",
    "cavity_length = 50e-3\n",
    "tweezer_waist = 0.6e-6\n",
    "detuning_ratio = 0.25 \n",
    "cavity_linewidth_ratio = 0.5\n",
    "optomechanical_coupling_ratio = 0.28\n",
    "g_fb_ratio = 5"
   ]
  },
  {
   "cell_type": "code",
   "execution_count": 3,
   "id": "1f5dff8c",
   "metadata": {},
   "outputs": [],
   "source": [
    "gamma, omega, ba_force, std_detection, std_z, g_cs, detuning, cavity_linewidth =\\\n",
    "compute_parameters_simulation_cavity(power, wavelength, tweezer_waist, radius, p, fs, eta_detection, \n",
    "                                     cavity_length, cavity_waist, detuning_ratio, cavity_linewidth_ratio,\n",
    "                                    T = T, rho = rho, index_refraction = index_refraction)\n",
    "\n",
    "zp_x = compute_zpx(omega, radius, rho = rho)\n",
    "std_detection = std_detection/zp_x\n",
    "\n",
    "period = 2*np.pi/omega\n",
    "t = np.arange(0, 500*period, delta_t)\n",
    "N = t.shape[0]\n",
    "\n",
    "coupling = (1/(4*np.pi))*(ba_force**2)"
   ]
  },
  {
   "cell_type": "code",
   "execution_count": 4,
   "id": "9597cf29",
   "metadata": {},
   "outputs": [],
   "source": [
    "cavity_linewidth = cavity_linewidth_ratio * omega\n",
    "g_cs = optomechanical_coupling_ratio * omega\n",
    "env = Cavity_Particle(\n",
    "    omega,\n",
    "    gamma,\n",
    "    detuning,        \n",
    "    cavity_linewidth,\n",
    "    g_cs,\n",
    "    coupling,\n",
    "    radius=radius,\n",
    "    eta_detection=eta_detection,\n",
    "    T=T,\n",
    "    g_fb_ratio = g_fb_ratio\n",
    ")"
   ]
  },
  {
   "cell_type": "code",
   "execution_count": 5,
   "id": "a7141ea5",
   "metadata": {},
   "outputs": [],
   "source": [
    "variance_process = env.thermal_force_std**2 + env.backaction_std**2\n",
    "Q = control_step*delta_t/2*np.array(\n",
    "    [\n",
    "        [env.__shot_std__**2, 0, 0, 0],\n",
    "        [0, env.__shot_std__**2, 0, 0],\n",
    "        [0, 0, 0, 0],\n",
    "        [0, 0, 0, variance_process]\n",
    "    ])\n",
    "#R = np.diag([0, 0, np.power(std_detection,2), 0])\n",
    "R = np.array([[np.power(std_detection, 2)]])\n",
    "Ad = scipy.linalg.expm(env.A *control_step*delta_t)\n",
    "Bd = env.B * delta_t * control_step\n",
    "cov_ss = dare(np.transpose(Ad), Bd, Q, R)[0]"
   ]
  },
  {
   "cell_type": "code",
   "execution_count": 6,
   "id": "657b1c50",
   "metadata": {},
   "outputs": [],
   "source": [
    "def post_process_snr(snr):\n",
    "    if not np.equal(snr, None).sum():\n",
    "        mean_pos = np.mean(snr)\n",
    "        std_pos = np.std(snr)\n",
    "    else:\n",
    "        mean_pos = 0\n",
    "        std_pos = 0\n",
    "    return mean_pos, std_pos"
   ]
  },
  {
   "cell_type": "code",
   "execution_count": 7,
   "id": "be38885d",
   "metadata": {},
   "outputs": [
    {
     "name": "stderr",
     "output_type": "stream",
     "text": [
      "100%|████████████████████████████████████████████████████████████████████████████████████| 5/5 [00:05<00:00,  1.02s/it]\n"
     ]
    }
   ],
   "source": [
    "numbers = np.array([1])\n",
    "width = np.array([1])\n",
    "vals = []\n",
    "runs = 5\n",
    "subsampling = 1000\n",
    "laser_linewidth = 0\n",
    "metrics = {''}\n",
    "for photon_number in numbers:\n",
    "    for run in tqdm(range(runs)):\n",
    "        env = Cavity_Particle(\n",
    "            omega,\n",
    "            gamma,\n",
    "            detuning,\n",
    "            cavity_linewidth,\n",
    "            optomechanical_coupling_ratio*omega,\n",
    "            coupling,\n",
    "            radius=radius,\n",
    "            eta_detection=eta_detection,\n",
    "            T=T\n",
    "        )\n",
    "        optical_input, centers, pulse_width = create_pulse(photon_number, env.__kappa__, \n",
    "                                                           laser_linewidth, t,\n",
    "                                                           cavity_length, cavity_linewidth,\n",
    "                                                           env.__detuning__, pulse_width = width)\n",
    "        val = np.zeros(int(optical_input.shape[1]/subsampling))\n",
    "        for i in range(len(val)):\n",
    "            val[i] = np.sqrt(np.sum(np.power(abs(optical_input[:,subsampling*i]),2)))\n",
    "        vals.append(val)\n",
    "vals = np.array(vals)"
   ]
  },
  {
   "cell_type": "code",
   "execution_count": 9,
   "id": "b4387601",
   "metadata": {},
   "outputs": [
    {
     "data": {
      "image/png": "[encoded data removed]",
      "text/plain": [
       "<Figure size 425x325 with 1 Axes>"
      ]
     },
     "metadata": {},
     "output_type": "display_data"
    }
   ],
   "source": [
    "colors = ['#2E86C1', '#85C1E9', '#1B4F72']\n",
    "fig = plt.figure()\n",
    "factor = 1\n",
    "fig.set_size_inches(4.25*factor, 3.25*factor, forward=True)\n",
    "\n",
    "for el in vals:\n",
    "    plt.plot(1e3*t[::100][:el.shape[0]], el, color = colors[2], alpha = 0.07)\n",
    "plt.xlabel(r'$t$ (ms)')\n",
    "plt.ylabel(r'optical signal (a.u.)')\n",
    "plt.grid()\n",
    "plt.show()"
   ]
  },
  {
   "cell_type": "code",
   "execution_count": 45,
   "id": "bc36b2ff",
   "metadata": {},
   "outputs": [
    {
     "data": {
      "text/plain": [
       "(6267,)"
      ]
     },
     "execution_count": 45,
     "metadata": {},
     "output_type": "execute_result"
    }
   ],
   "source": [
    "numbers = np.array([1])\n",
    "width = np.array([1])\n",
    "runs = 100\n",
    "subsampling = 1000\n",
    "log_linewidths = np.linspace(0,4,11)\n",
    "linewidths  = np.power(log_linewidths,10)\n",
    "ratios = []\n",
    "metrics = {''}\n",
    "for l in linewidths:\n",
    "for photon_number in numbers:\n",
    "    for run in tqdm(range(runs)):\n",
    "        env = Cavity_Particle(\n",
    "            omega,\n",
    "            gamma,\n",
    "            detuning,\n",
    "            cavity_linewidth,\n",
    "            optomechanical_coupling_ratio*omega,\n",
    "            coupling,\n",
    "            radius=radius,\n",
    "            eta_detection=eta_detection,\n",
    "            T=T\n",
    "        )\n",
    "        optical_input, centers, pulse_width = create_pulse(photon_number, env.__kappa__, \n",
    "                                                           laser_linewidth, t,\n",
    "                                                           cavity_length, cavity_linewidth,\n",
    "                                                           env.__detuning__, pulse_width = width)\n",
    "        val = np.zeros(int(optical_input.shape[1]/subsampling))\n",
    "        for i in range(len(val)):\n",
    "            val[i] = np.sqrt(np.sum(np.power(abs(optical_input[:,subsampling*i]),2)))\n",
    "        vals.append(val)\n",
    "vals = np.array(vals)"
   ]
  }
 ],
 "metadata": {
  "kernelspec": {
   "display_name": "Python 3 (ipykernel)",
   "language": "python",
   "name": "python3"
  },
  "language_info": {
   "codemirror_mode": {
    "name": "ipython",
    "version": 3
   },
   "file_extension": ".py",
   "mimetype": "text/x-python",
   "name": "python",
   "nbconvert_exporter": "python",
   "pygments_lexer": "ipython3",
   "version": "3.10.9"
  }
 },
 "nbformat": 4,
 "nbformat_minor": 5
}
