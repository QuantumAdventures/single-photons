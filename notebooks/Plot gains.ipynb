{
 "cells": [
  {
   "cell_type": "code",
   "execution_count": 11,
   "id": "7c9f5068",
   "metadata": {},
   "outputs": [],
   "source": [
    "import pandas as pd\n",
    "import matplotlib.pyplot as plt\n",
    "import numpy as np\n",
    "from single_photons.utils.parameters import *\n",
    "\n",
    "\n",
    "plt.rcParams.update({'font.size': 18})\n",
    "plt.rcParams['axes.linewidth'] = 2"
   ]
  },
  {
   "cell_type": "code",
   "execution_count": 29,
   "id": "cff03924",
   "metadata": {},
   "outputs": [],
   "source": [
    "def compute_phonons_per_gain_LQR(Ad, Bd, omega):\n",
    "    Q = np.array([[omega/2, 0],\n",
    "                            [0, omega/2]])\n",
    "\n",
    "    steps = 3000\n",
    "    g_fbs = omega*np.linspace(0.01, 2, 201)\n",
    "    z_squared = np.zeros(g_fbs.shape)\n",
    "    for j, g_fb in enumerate(g_fbs):\n",
    "        z = np.zeros((steps, 2))\n",
    "        z[0,0] = 5 \n",
    "        Q2 = np.array([[omega/(g_fb**2)]])\n",
    "        S, _, L =  dare(Ad, Bd, Q, Q2)\n",
    "        for i in range(1,steps):\n",
    "            z[i] = (Ad-Bd@L)@z[i-1]\n",
    "        z_squared[j] = np.power(z,2).mean(axis=0).sum()\n",
    "    return z_squared, g_fbs  "
   ]
  },
  {
   "cell_type": "code",
   "execution_count": 30,
   "id": "bdc80664",
   "metadata": {},
   "outputs": [
    {
     "data": {
      "text/html": [
       "<div>\n",
       "<style scoped>\n",
       "    .dataframe tbody tr th:only-of-type {\n",
       "        vertical-align: middle;\n",
       "    }\n",
       "\n",
       "    .dataframe tbody tr th {\n",
       "        vertical-align: top;\n",
       "    }\n",
       "\n",
       "    .dataframe thead th {\n",
       "        text-align: right;\n",
       "    }\n",
       "</style>\n",
       "<table border=\"1\" class=\"dataframe\">\n",
       "  <thead>\n",
       "    <tr style=\"text-align: right;\">\n",
       "      <th></th>\n",
       "      <th>avg_phonons</th>\n",
       "      <th>g_fb</th>\n",
       "      <th>G_z</th>\n",
       "      <th>G_p</th>\n",
       "      <th>eta</th>\n",
       "    </tr>\n",
       "  </thead>\n",
       "  <tbody>\n",
       "    <tr>\n",
       "      <th>0</th>\n",
       "      <td>2.091127</td>\n",
       "      <td>50126.640589</td>\n",
       "      <td>497.452782</td>\n",
       "      <td>50086.506040</td>\n",
       "      <td>0.3</td>\n",
       "    </tr>\n",
       "    <tr>\n",
       "      <th>1</th>\n",
       "      <td>1.195036</td>\n",
       "      <td>100253.281178</td>\n",
       "      <td>3475.997312</td>\n",
       "      <td>100042.451188</td>\n",
       "      <td>0.3</td>\n",
       "    </tr>\n",
       "    <tr>\n",
       "      <th>2</th>\n",
       "      <td>1.278146</td>\n",
       "      <td>150379.921767</td>\n",
       "      <td>8877.186835</td>\n",
       "      <td>149779.186597</td>\n",
       "      <td>0.3</td>\n",
       "    </tr>\n",
       "    <tr>\n",
       "      <th>3</th>\n",
       "      <td>0.760825</td>\n",
       "      <td>200506.562356</td>\n",
       "      <td>16610.828590</td>\n",
       "      <td>199216.009950</td>\n",
       "      <td>0.3</td>\n",
       "    </tr>\n",
       "    <tr>\n",
       "      <th>4</th>\n",
       "      <td>0.749565</td>\n",
       "      <td>250633.202945</td>\n",
       "      <td>26560.761994</td>\n",
       "      <td>248282.988013</td>\n",
       "      <td>0.3</td>\n",
       "    </tr>\n",
       "  </tbody>\n",
       "</table>\n",
       "</div>"
      ],
      "text/plain": [
       "   avg_phonons           g_fb           G_z            G_p  eta\n",
       "0     2.091127   50126.640589    497.452782   50086.506040  0.3\n",
       "1     1.195036  100253.281178   3475.997312  100042.451188  0.3\n",
       "2     1.278146  150379.921767   8877.186835  149779.186597  0.3\n",
       "3     0.760825  200506.562356  16610.828590  199216.009950  0.3\n",
       "4     0.749565  250633.202945  26560.761994  248282.988013  0.3"
      ]
     },
     "execution_count": 30,
     "metadata": {},
     "output_type": "execute_result"
    }
   ],
   "source": [
    "df = pd.read_csv('../data/phonons_per_gain.csv', index_col=None)\n",
    "theory_df = pd.read_csv('../data/theory_lqr.csv', index_col=None)\n",
    "df.head()"
   ]
  },
  {
   "cell_type": "code",
   "execution_count": 34,
   "id": "9e798e31",
   "metadata": {},
   "outputs": [
    {
     "data": {
      "text/html": [
       "<div>\n",
       "<style scoped>\n",
       "    .dataframe tbody tr th:only-of-type {\n",
       "        vertical-align: middle;\n",
       "    }\n",
       "\n",
       "    .dataframe tbody tr th {\n",
       "        vertical-align: top;\n",
       "    }\n",
       "\n",
       "    .dataframe thead th {\n",
       "        text-align: right;\n",
       "    }\n",
       "</style>\n",
       "<table border=\"1\" class=\"dataframe\">\n",
       "  <thead>\n",
       "    <tr style=\"text-align: right;\">\n",
       "      <th></th>\n",
       "      <th>Unnamed: 0</th>\n",
       "      <th>gains</th>\n",
       "      <th>theory_lqr</th>\n",
       "    </tr>\n",
       "  </thead>\n",
       "  <tbody>\n",
       "    <tr>\n",
       "      <th>0</th>\n",
       "      <td>0</td>\n",
       "      <td>5012.664059</td>\n",
       "      <td>4.393921</td>\n",
       "    </tr>\n",
       "    <tr>\n",
       "      <th>1</th>\n",
       "      <td>1</td>\n",
       "      <td>10000.264798</td>\n",
       "      <td>3.238249</td>\n",
       "    </tr>\n",
       "    <tr>\n",
       "      <th>2</th>\n",
       "      <td>2</td>\n",
       "      <td>14987.865536</td>\n",
       "      <td>2.488504</td>\n",
       "    </tr>\n",
       "    <tr>\n",
       "      <th>3</th>\n",
       "      <td>3</td>\n",
       "      <td>19975.466275</td>\n",
       "      <td>1.984322</td>\n",
       "    </tr>\n",
       "    <tr>\n",
       "      <th>4</th>\n",
       "      <td>4</td>\n",
       "      <td>24963.067013</td>\n",
       "      <td>1.632927</td>\n",
       "    </tr>\n",
       "  </tbody>\n",
       "</table>\n",
       "</div>"
      ],
      "text/plain": [
       "   Unnamed: 0         gains  theory_lqr\n",
       "0           0   5012.664059    4.393921\n",
       "1           1  10000.264798    3.238249\n",
       "2           2  14987.865536    2.488504\n",
       "3           3  19975.466275    1.984322\n",
       "4           4  24963.067013    1.632927"
      ]
     },
     "execution_count": 34,
     "metadata": {},
     "output_type": "execute_result"
    }
   ],
   "source": [
    "theory_df.head()"
   ]
  },
  {
   "cell_type": "code",
   "execution_count": 32,
   "id": "83b9a6ac",
   "metadata": {},
   "outputs": [],
   "source": [
    "df['g_fb_int'] = df['g_fb'].astype(int)\n",
    "df['eta_int'] = (10*df['eta'].values).astype(int)\n",
    "means_plot = df.groupby(['g_fb_int', 'eta_int'], as_index=False).mean()\n",
    "stds_plot = df.groupby(['g_fb_int', 'eta_int'], as_index=False).std()\n",
    "gains_plot = df.groupby(['g_fb_int'],as_index=False).mean()['g_fb'].values"
   ]
  },
  {
   "cell_type": "code",
   "execution_count": 38,
   "id": "a54757c4",
   "metadata": {},
   "outputs": [
    {
     "data": {
      "image/png": "[encoded data removed]",
      "text/plain": [
       "<Figure size 540x420 with 1 Axes>"
      ]
     },
     "metadata": {},
     "output_type": "display_data"
    }
   ],
   "source": [
    "fig = plt.figure(figsize=(5.4, 4.2))\n",
    "plt.errorbar(gains_plot/(2*1e3*np.pi), means_plot[means_plot['eta_int']==10]['avg_phonons'], \n",
    "             stds_plot[stds_plot['eta_int']==10]['avg_phonons'], fmt='o')\n",
    "plt.errorbar(gains_plot/(2*1e3*np.pi), means_plot[means_plot['eta_int']==3]['avg_phonons'], \n",
    "             stds_plot[stds_plot['eta_int']==3]['avg_phonons'], fmt='o')\n",
    "plt.grid()\n",
    "plt.xlabel(r'$g_{fb}/2\\pi$ (kHz)')\n",
    "plt.ylabel(r'$\\langle n \\rangle$')\n",
    "plt.yscale('log')\n",
    "plt.legend([r'$\\eta=1.0$', r'$\\eta=0.3$'])\n",
    "plt.axhspan(1e-1, 0.3, facecolor='0.2', alpha=0.125, zorder=-100)\n",
    "plt.xlim([0, 5+gains_plot[-1]/(2*1e3*np.pi)])\n",
    "plt.plot([0,200], [1,1], '--')\n",
    "plt.plot(theory_df['gains'].values/(2*np.pi*1e3), theory_df['theory_lqr'].values)\n",
    "plt.ylim([0.1,2.5])\n",
    "plt.text(2, 0.3, 'Limit of \\nMagrini`s', fontsize=10)\n",
    "plt.text(2, 0.15, r'$\\langle n \\rangle \\geq (1/\\sqrt{\\eta}-1)/2$', fontsize=10)\n",
    "plt.show()\n",
    "#    plt.legend(['Theory', 'Experiment'], fontsize=12)\n",
    "#plt.axvspan(2e6, 10e6, facecolor='0.2', alpha=0.175, zorder=-100)\n",
    "#plt.xlim([1.1*gains_pert.min(), 1.1*gains_pert.max()])\n",
    "#plt.ylim([-6e3, 6e3])\n",
    "    #plt.savefig(r'{}\\plot_wo_legend.pdf'.format(data_folder))"
   ]
  },
  {
   "cell_type": "code",
   "execution_count": null,
   "id": "062aa547",
   "metadata": {},
   "outputs": [],
   "source": []
  },
  {
   "cell_type": "code",
   "execution_count": null,
   "id": "b7f4fe61",
   "metadata": {},
   "outputs": [],
   "source": []
  },
  {
   "cell_type": "code",
   "execution_count": null,
   "id": "4492cc33",
   "metadata": {},
   "outputs": [],
   "source": []
  },
  {
   "cell_type": "code",
   "execution_count": null,
   "id": "a88c3c59",
   "metadata": {},
   "outputs": [],
   "source": []
  },
  {
   "cell_type": "code",
   "execution_count": null,
   "id": "b6592cef",
   "metadata": {},
   "outputs": [],
   "source": []
  }
 ],
 "metadata": {
  "kernelspec": {
   "display_name": "Python 3 (ipykernel)",
   "language": "python",
   "name": "python3"
  },
  "language_info": {
   "codemirror_mode": {
    "name": "ipython",
    "version": 3
   },
   "file_extension": ".py",
   "mimetype": "text/x-python",
   "name": "python",
   "nbconvert_exporter": "python",
   "pygments_lexer": "ipython3",
   "version": "3.8.5"
  }
 },
 "nbformat": 4,
 "nbformat_minor": 5
}
