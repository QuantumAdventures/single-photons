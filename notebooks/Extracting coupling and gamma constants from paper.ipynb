{
 "cells": [
  {
   "cell_type": "code",
   "execution_count": 1,
   "id": "0486d158",
   "metadata": {},
   "outputs": [],
   "source": [
    "import numpy as np\n",
    "import matplotlib.pyplot as plt\n",
    "from single_photons.utils.constants import kb, m_gas, hbar"
   ]
  },
  {
   "cell_type": "code",
   "execution_count": 2,
   "id": "f4235226",
   "metadata": {},
   "outputs": [],
   "source": [
    "dt = 32e-9\n",
    "t = np.arange(0, 780e-6, dt)"
   ]
  },
  {
   "cell_type": "code",
   "execution_count": 3,
   "id": "a28cca4f",
   "metadata": {},
   "outputs": [
    {
     "data": {
      "text/plain": [
       "24375"
      ]
     },
     "execution_count": 3,
     "metadata": {},
     "output_type": "execute_result"
    }
   ],
   "source": [
    "t.shape[0]"
   ]
  },
  {
   "cell_type": "code",
   "execution_count": 4,
   "id": "8269d21b",
   "metadata": {},
   "outputs": [],
   "source": [
    "T = 292\n",
    "p = 1e-6\n",
    "R = 71.5e-9\n",
    "rho = 2200\n",
    "index_refraction = 1.4440\n",
    "tweezer_power = 200e-3\n",
    "tweezer_waist = 0.6e-6\n",
    "cavity_waist = 100e-6\n",
    "cavity_length = 50e-3\n",
    "eta_detec = 0.178\n",
    "omega = 2*np.pi*1e5\n",
    "m_p = 4 / 3 * np.pi * R**3 * rho\n",
    "v_gas = np.sqrt(3 * kb * T / m_gas)\n",
    "gamma = 15.8 * R**2 * p / (m_p * v_gas)"
   ]
  },
  {
   "cell_type": "code",
   "execution_count": 5,
   "id": "da683de3",
   "metadata": {},
   "outputs": [
    {
     "data": {
      "text/plain": [
       "4.781564408355822e-05"
      ]
     },
     "execution_count": 5,
     "metadata": {},
     "output_type": "execute_result"
    }
   ],
   "source": [
    "gamma"
   ]
  },
  {
   "cell_type": "code",
   "execution_count": 8,
   "id": "1892dc1f",
   "metadata": {},
   "outputs": [
    {
     "data": {
      "text/plain": [
       "7.179745763500314e-05"
      ]
     },
     "execution_count": 8,
     "metadata": {},
     "output_type": "execute_result"
    }
   ],
   "source": [
    "3.9e-42/(4*m_p*292*kb) #Valor paper"
   ]
  },
  {
   "cell_type": "code",
   "execution_count": 9,
   "id": "67ebcb22",
   "metadata": {},
   "outputs": [
    {
     "data": {
      "text/plain": [
       "6.684507609859605e-42"
      ]
     },
     "execution_count": 9,
     "metadata": {},
     "output_type": "execute_result"
    }
   ],
   "source": [
    "8.4e-41/(4*np.pi)"
   ]
  },
  {
   "cell_type": "code",
   "execution_count": 10,
   "id": "e952211f",
   "metadata": {},
   "outputs": [],
   "source": [
    "p_zp = np.sqrt(omega * hbar * m_p / 2)"
   ]
  },
  {
   "cell_type": "code",
   "execution_count": 11,
   "id": "7396abee",
   "metadata": {},
   "outputs": [
    {
     "data": {
      "text/plain": [
       "152.55808174578289"
      ]
     },
     "execution_count": 11,
     "metadata": {},
     "output_type": "execute_result"
    }
   ],
   "source": [
    "np.sqrt(4*gamma*m_p*kb*T)/p_zp"
   ]
  },
  {
   "cell_type": "code",
   "execution_count": 12,
   "id": "46e680af",
   "metadata": {},
   "outputs": [
    {
     "data": {
      "text/plain": [
       "6.684507609859605e-42"
      ]
     },
     "execution_count": 12,
     "metadata": {},
     "output_type": "execute_result"
    }
   ],
   "source": [
    "K = 8.4e-41/(4*np.pi)\n",
    "K"
   ]
  },
  {
   "cell_type": "code",
   "execution_count": 13,
   "id": "a989fee3",
   "metadata": {},
   "outputs": [
    {
     "data": {
      "text/plain": [
       "867.585103912695"
      ]
     },
     "execution_count": 13,
     "metadata": {},
     "output_type": "execute_result"
    }
   ],
   "source": [
    "np.sqrt(4*np.pi*K)/p_zp"
   ]
  },
  {
   "cell_type": "code",
   "execution_count": 15,
   "id": "99196d44",
   "metadata": {},
   "outputs": [
    {
     "data": {
      "text/plain": [
       "751689"
      ]
     },
     "execution_count": 15,
     "metadata": {},
     "output_type": "execute_result"
    }
   ],
   "source": [
    "867**2"
   ]
  },
  {
   "cell_type": "code",
   "execution_count": 17,
   "id": "e14d2f61",
   "metadata": {},
   "outputs": [
    {
     "data": {
      "text/plain": [
       "867.585103912695"
      ]
     },
     "execution_count": 17,
     "metadata": {},
     "output_type": "execute_result"
    }
   ],
   "source": [
    "np.sqrt(4*np.pi*K)/p_zp"
   ]
  },
  {
   "cell_type": "code",
   "execution_count": 18,
   "id": "cecb22ea",
   "metadata": {},
   "outputs": [
    {
     "data": {
      "text/plain": [
       "6.684507609859605e-42"
      ]
     },
     "execution_count": 18,
     "metadata": {},
     "output_type": "execute_result"
    }
   ],
   "source": [
    "K"
   ]
  },
  {
   "cell_type": "code",
   "execution_count": null,
   "id": "7a965788",
   "metadata": {},
   "outputs": [],
   "source": []
  }
 ],
 "metadata": {
  "kernelspec": {
   "display_name": "Python 3 (ipykernel)",
   "language": "python",
   "name": "python3"
  },
  "language_info": {
   "codemirror_mode": {
    "name": "ipython",
    "version": 3
   },
   "file_extension": ".py",
   "mimetype": "text/x-python",
   "name": "python",
   "nbconvert_exporter": "python",
   "pygments_lexer": "ipython3",
   "version": "3.9.13"
  }
 },
 "nbformat": 4,
 "nbformat_minor": 5
}
