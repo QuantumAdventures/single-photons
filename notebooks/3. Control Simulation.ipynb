{
 "cells": [
  {
   "cell_type": "code",
   "execution_count": 1,
   "id": "74eb26a9",
   "metadata": {},
   "outputs": [
    {
     "name": "stderr",
     "output_type": "stream",
     "text": [
      "\n",
      "KeyboardInterrupt\n",
      "\n"
     ]
    }
   ],
   "source": [
    "import numpy as np\n",
    "import pandas as pd\n",
    "import seaborn as sns\n",
    "import matplotlib.pyplot as plt\n",
    "from tqdm import tqdm\n",
    "import scipy\n",
    "from control import lqr, dare\n",
    "from single_photons.estimators.kalman import KalmanFilter\n",
    "import single_photons.utils.constants as ct\n",
    "from single_photons.utils.parameters import *\n",
    "from single_photons.utils.metrics import *\n",
    "from single_photons.environment import Particle"
   ]
  },
  {
   "cell_type": "code",
   "execution_count": null,
   "id": "28d208cb",
   "metadata": {},
   "outputs": [],
   "source": [
    "plt.rcParams['font.family'] = 'serif'\n",
    "plt.rcParams['font.serif'] = ['Times New Roman'] + plt.rcParams['font.serif']\n",
    "plt.rcParams.update({\n",
    "    \"text.usetex\": True,\n",
    "})\n",
    "plt.rcParams['figure.dpi'] = 150\n",
    "C = ['#2E86C1', '#85C1E9', '#1B4F72']"
   ]
  },
  {
   "cell_type": "code",
   "execution_count": null,
   "id": "0b2f182d",
   "metadata": {},
   "outputs": [],
   "source": [
    "omega = 2*np.pi*104e3\n",
    "p = 9.2e-7\n",
    "radius = 71.5e-9\n",
    "wavelength = 1.064e-6\n",
    "power = 300e-3\n",
    "waist = 3.7352e-6 #from scattered power in Magrini paper. resulting theoretical omega is 56% the experimental one\n",
    "eta_detection = 0.178\n",
    "delta_t = 1e-9\n",
    "control_step = int(32e-9/delta_t) \n",
    "fs = 1/(control_step*delta_t)\n",
    "gamma, ba_force, std_detection, std_z = compute_parameters_simulation(power, wavelength, waist, omega,\n",
    "                                                                             radius, p, fs, eta_detection)\n",
    "coupling = (1/(4*np.pi))*(ba_force**2)\n",
    "env = Particle(omega, gamma, coupling, eta_detection=eta_detection)\n",
    "variance_process = env.thermal_force_std**2 + env.backaction_std**2\n",
    "std_detection = std_detection/env.zp_x\n",
    "period = 2*np.pi/omega\n",
    "t = np.arange(0, 100 * period, delta_t)\n",
    "N = t.shape[0]\n",
    "g_fb_ratio = 0.5"
   ]
  },
  {
   "cell_type": "code",
   "execution_count": null,
   "id": "4efaf89b",
   "metadata": {},
   "outputs": [],
   "source": [
    "Q = np.array([[0, 0], [0, variance_process]])*control_step*delta_t/2\n",
    "R = np.array([[np.power(std_detection,2)]])"
   ]
  },
  {
   "cell_type": "code",
   "execution_count": null,
   "id": "d5af4656",
   "metadata": {},
   "outputs": [],
   "source": [
    "g_fb = g_fb_ratio*omega\n",
    "Ad = scipy.linalg.expm(env.A *control_step*delta_t)\n",
    "Bd = env.B * delta_t * control_step\n",
    "cost_states = np.array([[omega/2, 0],\n",
    "                        [0, omega/2]])\n",
    "(G_lqr, S, E) = lqr(env.A, env.B, cost_states, omega/(g_fb**2))\n",
    "X, L, G = dare(Ad, Bd, cost_states, omega/(g_fb**2))\n",
    "G_lqr, G"
   ]
  },
  {
   "cell_type": "code",
   "execution_count": null,
   "id": "41335925",
   "metadata": {},
   "outputs": [],
   "source": [
    "x0 = std_detection\n",
    "P0 = std_detection**2*np.matrix(np.eye(2))\n",
    "estimation = np.matrix([[x0*np.random.normal()], [x0*np.random.normal()]])\n",
    "states = np.array([[x0*np.random.normal()], [x0*np.random.normal()]])\n",
    "new_states = np.zeros((N, 2))\n",
    "measured_states = np.zeros((N))\n",
    "estimated_states = np.zeros((N, 2))\n",
    "estimated_states[0, :] = estimation.reshape((2))\n",
    "estimation = estimation.reshape((2, 1))\n",
    "control = np.array([[0]])\n",
    "controls = []\n",
    "kalman = KalmanFilter(estimation, P0, Ad, Bd, env.C, Q, R)\n",
    "for i in tqdm(range(t.shape[0])):\n",
    "    new_states[i, :] = states[:, 0]\n",
    "    if not i % control_step:\n",
    "        measured_states[i] = states[0,0] + std_detection * np.random.normal()\n",
    "        kalman.propagate_dynamics(control)\n",
    "        kalman.compute_aposteriori(measured_states[i])\n",
    "        estimated_states[i, :] = kalman.estimates_aposteriori[int(i/control_step)][:, 0].reshape((2))\n",
    "        estimation = estimated_states[i, :].reshape((2, 1))\n",
    "        control = -G @ estimation\n",
    "    else:\n",
    "        measured_states[i] = measured_states[i-1]\n",
    "        estimated_states[i, :] = estimated_states[i-1,:]\n",
    "    controls.append(float(control))\n",
    "    states = env.step(states, control=control, delta_t=delta_t)"
   ]
  },
  {
   "cell_type": "code",
   "execution_count": null,
   "id": "c2c1ebad",
   "metadata": {},
   "outputs": [],
   "source": [
    "#plt.plot(1e3*t[::control_step],env.zp_x*1e9*measured_states[::control_step], color = C[0], alpha = 0.2)\n",
    "plt.plot(1e3*t[::control_step],env.zp_x*1e9*new_states[::control_step,0], color = C[1], alpha = 0.6)\n",
    "plt.plot(1e3*t[::control_step],env.zp_x*1e9*estimated_states[::control_step,0], color = C[2], alpha = 0.4)\n",
    "plt.ylabel(r'$\\langle z \\rangle$ (nm)')\n",
    "plt.xlabel(r'time (ms)')\n",
    "plt.grid(alpha = 0.4)"
   ]
  },
  {
   "cell_type": "code",
   "execution_count": null,
   "id": "29b904f4",
   "metadata": {},
   "outputs": [],
   "source": [
    "step=10\n",
    "phonons = compute_phonons(estimated_states, np.array(kalman.error_covariance_aposteriori), control_step, step=step)\n",
    "plt.plot(t[::control_step][::step][2:]/1e-6, phonons)\n",
    "plt.ylabel(r'$\\langle \\bar{n} \\rangle$')\n",
    "plt.xlabel(r'$t[\\mu s]$')\n",
    "plt.yscale('log')\n",
    "plt.grid()\n",
    "plt.show()\n",
    "print(min(phonons))"
   ]
  },
  {
   "cell_type": "code",
   "execution_count": null,
   "id": "92c60ade",
   "metadata": {},
   "outputs": [],
   "source": [
    "cov_mat = kalman.error_covariance_aposteriori[-1]\n",
    "z_std = env.zp_x*np.sqrt(cov_mat[0,0])\n",
    "p_std = env.zp_p*np.sqrt(cov_mat[1,1])\n"
   ]
  },
  {
   "cell_type": "code",
   "execution_count": null,
   "id": "d200616d",
   "metadata": {},
   "outputs": [],
   "source": [
    "fig = plt.Figure()\n",
    "plt.title('Position')\n",
    "plt.plot(t, measured_states)\n",
    "plt.plot(t[100:], estimated_states[100:,0])\n",
    "plt.plot(t[100:], new_states[100:,0])\n",
    "plt.legend(['Measured', 'Estimation', 'Simulation'], loc='upper right')\n",
    "plt.xlabel(r't(s)')\n",
    "plt.ylabel(r'$\\langle z\\rangle/z_{zp}$')\n",
    "plt.grid()\n",
    "plt.show()"
   ]
  },
  {
   "cell_type": "code",
   "execution_count": null,
   "id": "e26985e1",
   "metadata": {},
   "outputs": [],
   "source": [
    "fig = plt.Figure()\n",
    "plt.title('Velocity')\n",
    "plt.plot(t[:], estimated_states[:,1])\n",
    "plt.plot(t[:], new_states[:,1])\n",
    "plt.grid()\n",
    "plt.show()"
   ]
  },
  {
   "cell_type": "code",
   "execution_count": null,
   "id": "4d61d81b",
   "metadata": {},
   "outputs": [],
   "source": [
    "from scipy.signal import butter, lfilter\n",
    "\n",
    "def butter_bandpass(lowcut, highcut, fs, order=5):\n",
    "    return butter(order, [lowcut, highcut], fs=fs, btype='band')\n",
    "\n",
    "def butter_bandpass_filter(data, lowcut, highcut, fs, order=5):\n",
    "    b, a = butter_bandpass(lowcut, highcut, fs, order=order)\n",
    "    y = lfilter(b, a, data)\n",
    "    return y"
   ]
  },
  {
   "cell_type": "code",
   "execution_count": null,
   "id": "b2ad2b0a",
   "metadata": {},
   "outputs": [],
   "source": [
    "df = pd.DataFrame()\n",
    "df['z'] = butter_bandpass_filter(estimated_states[:,0][::30], 22e3, 220e3, 1/(30e-9), order=2)[500:]\n",
    "df['p'] = butter_bandpass_filter(estimated_states[:,1][::30], 22e3, 220e3, 1/(30e-9), order=2)[500:]"
   ]
  },
  {
   "cell_type": "code",
   "execution_count": null,
   "id": "938d2b25",
   "metadata": {},
   "outputs": [],
   "source": [
    "plt.plot(df['z'][100:])\n",
    "plt.plot(df['p'][100:])\n",
    "df['z'].values[0], df['p'].values[0]"
   ]
  },
  {
   "cell_type": "code",
   "execution_count": null,
   "id": "c22af2a1",
   "metadata": {},
   "outputs": [],
   "source": [
    "sns.set_theme(style=\"white\")\n",
    "g = sns.JointGrid(data=df, x=\"z\", y=\"p\", space=0, xlim=[-3,3], ylim=[-3,3])\n",
    "g.plot_joint(sns.lineplot, sort = False)#clip=((2200, 6800), (10, 25)),\n",
    "             #thresh=0, levels=100, cmap=\"rocket\")\n",
    "g.plot_marginals(sns.kdeplot, alpha=1, fill=True)\n",
    "g.set_axis_labels(r'$z/z_{zp}$',r'$p/p_{zp}$')"
   ]
  },
  {
   "cell_type": "code",
   "execution_count": 30,
   "id": "56b82f23",
   "metadata": {},
   "outputs": [
    {
     "data": {
      "text/plain": [
       "587.1995258653128"
      ]
     },
     "execution_count": 30,
     "metadata": {},
     "output_type": "execute_result"
    }
   ],
   "source": [
    "(1/np.sqrt(delta_t))*1.76*np.sqrt(4e-28)/env.zp_x"
   ]
  },
  {
   "cell_type": "code",
   "execution_count": 17,
   "id": "1f4af849",
   "metadata": {},
   "outputs": [
    {
     "data": {
      "text/plain": [
       "5.336160333389444"
      ]
     },
     "execution_count": 17,
     "metadata": {},
     "output_type": "execute_result"
    }
   ],
   "source": [
    "1e6*compute_scattered_power(power,waist,wavelength)/22.4"
   ]
  },
  {
   "cell_type": "code",
   "execution_count": 20,
   "id": "562616e3",
   "metadata": {},
   "outputs": [
    {
     "data": {
      "text/plain": [
       "0.5635880979043871"
      ]
     },
     "execution_count": 20,
     "metadata": {},
     "output_type": "execute_result"
    }
   ],
   "source": [
    "compute_omega(power, waist)/(2*np.pi)/104000"
   ]
  },
  {
   "cell_type": "code",
   "execution_count": 7,
   "id": "15f82aa5",
   "metadata": {},
   "outputs": [
    {
     "name": "stdout",
     "output_type": "stream",
     "text": [
      "[[1. 0.]]\n"
     ]
    }
   ],
   "source": [
    "print(env.C)"
   ]
  }
 ],
 "metadata": {
  "kernelspec": {
   "display_name": "Python 3 (ipykernel)",
   "language": "python",
   "name": "python3"
  },
  "language_info": {
   "codemirror_mode": {
    "name": "ipython",
    "version": 3
   },
   "file_extension": ".py",
   "mimetype": "text/x-python",
   "name": "python",
   "nbconvert_exporter": "python",
   "pygments_lexer": "ipython3",
   "version": "3.8.5"
  }
 },
 "nbformat": 4,
 "nbformat_minor": 5
}
